{
 "cells": [
  {
   "cell_type": "code",
   "execution_count": 15,
   "metadata": {},
   "outputs": [],
   "source": [
    "import pandas as pd"
   ]
  },
  {
   "cell_type": "code",
   "execution_count": 16,
   "metadata": {},
   "outputs": [],
   "source": [
    "import numpy as np"
   ]
  },
  {
   "cell_type": "code",
   "execution_count": 17,
   "metadata": {},
   "outputs": [],
   "source": [
    "import matplotlib.pyplot as plot"
   ]
  },
  {
   "cell_type": "code",
   "execution_count": 22,
   "metadata": {},
   "outputs": [],
   "source": [
    "data=pd.read_csv('train.csv',sep=',',encoding='gbk')"
   ]
  },
  {
   "cell_type": "code",
   "execution_count": 79,
   "metadata": {},
   "outputs": [],
   "source": [
    "test=pd.read_csv('test.csv',sep=',',encoding='gbk')"
   ]
  },
  {
   "cell_type": "code",
   "execution_count": 80,
   "metadata": {},
   "outputs": [],
   "source": [
    "submit=pd.read_csv('submit.csv',sep=',',encoding='gbk')"
   ]
  },
  {
   "cell_type": "code",
   "execution_count": null,
   "metadata": {},
   "outputs": [],
   "source": []
  },
  {
   "cell_type": "code",
   "execution_count": 24,
   "metadata": {},
   "outputs": [
    {
     "data": {
      "text/plain": [
       "(1396, 44)"
      ]
     },
     "execution_count": 24,
     "metadata": {},
     "output_type": "execute_result"
    }
   ],
   "source": [
    "data.shape"
   ]
  },
  {
   "cell_type": "code",
   "execution_count": 26,
   "metadata": {},
   "outputs": [
    {
     "data": {
      "text/plain": [
       "(150, 43)"
      ]
     },
     "execution_count": 26,
     "metadata": {},
     "output_type": "execute_result"
    }
   ],
   "source": [
    "test.shape"
   ]
  },
  {
   "cell_type": "code",
   "execution_count": 35,
   "metadata": {},
   "outputs": [],
   "source": [
    "strs=test['样本id'][:5]"
   ]
  },
  {
   "cell_type": "code",
   "execution_count": 39,
   "metadata": {},
   "outputs": [],
   "source": [
    "import re"
   ]
  },
  {
   "cell_type": "code",
   "execution_count": 47,
   "metadata": {},
   "outputs": [],
   "source": [
    "def get_num(str):\n",
    "    return re.findall('[0-9]+',str)[0]"
   ]
  },
  {
   "cell_type": "code",
   "execution_count": 66,
   "metadata": {},
   "outputs": [],
   "source": [
    "strs=test['样本id']"
   ]
  },
  {
   "cell_type": "code",
   "execution_count": 69,
   "metadata": {},
   "outputs": [],
   "source": [
    "numlist=strs.tolist()"
   ]
  },
  {
   "cell_type": "code",
   "execution_count": 75,
   "metadata": {},
   "outputs": [],
   "source": [
    "nums=[get_num(x) for x in numlist]"
   ]
  },
  {
   "cell_type": "code",
   "execution_count": 77,
   "metadata": {},
   "outputs": [
    {
     "data": {
      "text/plain": [
       "'1656'"
      ]
     },
     "execution_count": 77,
     "metadata": {},
     "output_type": "execute_result"
    }
   ],
   "source": [
    "nums[0]"
   ]
  },
  {
   "cell_type": "code",
   "execution_count": 78,
   "metadata": {},
   "outputs": [
    {
     "data": {
      "text/plain": [
       "['1656',\n",
       " '1548',\n",
       " '769',\n",
       " '1881',\n",
       " '1807',\n",
       " '145',\n",
       " '1212',\n",
       " '944',\n",
       " '829',\n",
       " '616',\n",
       " '1690',\n",
       " '114',\n",
       " '185',\n",
       " '1141',\n",
       " '1460',\n",
       " '1835',\n",
       " '1539',\n",
       " '598',\n",
       " '1800',\n",
       " '394',\n",
       " '1146',\n",
       " '149',\n",
       " '1750',\n",
       " '1977',\n",
       " '1830',\n",
       " '818',\n",
       " '881',\n",
       " '77',\n",
       " '1240',\n",
       " '309',\n",
       " '90',\n",
       " '1447',\n",
       " '1584',\n",
       " '23',\n",
       " '1188',\n",
       " '1461',\n",
       " '1691',\n",
       " '316',\n",
       " '299',\n",
       " '459',\n",
       " '462',\n",
       " '1730',\n",
       " '689',\n",
       " '1943',\n",
       " '1043',\n",
       " '919',\n",
       " '1104',\n",
       " '348',\n",
       " '123',\n",
       " '1645',\n",
       " '1522',\n",
       " '1874',\n",
       " '295',\n",
       " '954',\n",
       " '1529',\n",
       " '722',\n",
       " '1703',\n",
       " '1524',\n",
       " '125',\n",
       " '1922',\n",
       " '1186',\n",
       " '938',\n",
       " '1744',\n",
       " '936',\n",
       " '1973',\n",
       " '157',\n",
       " '1003',\n",
       " '1407',\n",
       " '1057',\n",
       " '1783',\n",
       " '48',\n",
       " '263',\n",
       " '678',\n",
       " '882',\n",
       " '1688',\n",
       " '1361',\n",
       " '1802',\n",
       " '250',\n",
       " '323',\n",
       " '1514',\n",
       " '1545',\n",
       " '830',\n",
       " '1757',\n",
       " '917',\n",
       " '1728',\n",
       " '352',\n",
       " '1229',\n",
       " '619',\n",
       " '1138',\n",
       " '687',\n",
       " '966',\n",
       " '537',\n",
       " '867',\n",
       " '928',\n",
       " '520',\n",
       " '1338',\n",
       " '988',\n",
       " '899',\n",
       " '15',\n",
       " '1412',\n",
       " '1915',\n",
       " '1885',\n",
       " '1893',\n",
       " '688',\n",
       " '1664',\n",
       " '1667',\n",
       " '1516',\n",
       " '437',\n",
       " '203',\n",
       " '1389',\n",
       " '761',\n",
       " '1373',\n",
       " '558',\n",
       " '1710',\n",
       " '153',\n",
       " '934',\n",
       " '54',\n",
       " '1227',\n",
       " '53',\n",
       " '1110',\n",
       " '49',\n",
       " '474',\n",
       " '1716',\n",
       " '1169',\n",
       " '1925',\n",
       " '667',\n",
       " '176',\n",
       " '1908',\n",
       " '160',\n",
       " '35',\n",
       " '1403',\n",
       " '1806',\n",
       " '241',\n",
       " '1059',\n",
       " '746',\n",
       " '513',\n",
       " '1088',\n",
       " '1370',\n",
       " '523',\n",
       " '319',\n",
       " '1923',\n",
       " '1296',\n",
       " '1152',\n",
       " '982',\n",
       " '304',\n",
       " '502',\n",
       " '1951',\n",
       " '386',\n",
       " '362',\n",
       " '522']"
      ]
     },
     "execution_count": 78,
     "metadata": {},
     "output_type": "execute_result"
    }
   ],
   "source": [
    "nums"
   ]
  },
  {
   "cell_type": "code",
   "execution_count": 82,
   "metadata": {},
   "outputs": [],
   "source": [
    "test_date=nums"
   ]
  },
  {
   "cell_type": "code",
   "execution_count": null,
   "metadata": {},
   "outputs": [],
   "source": []
  },
  {
   "cell_type": "code",
   "execution_count": null,
   "metadata": {},
   "outputs": [],
   "source": []
  },
  {
   "cell_type": "code",
   "execution_count": 13,
   "metadata": {},
   "outputs": [
    {
     "name": "stdout",
     "output_type": "stream",
     "text": [
      "nan\n",
      "nan\n",
      "nan\n",
      "nan\n",
      "nan\n",
      "nan\n",
      "nan\n",
      "nan\n",
      "nan\n",
      "nan\n",
      "nan\n",
      "nan\n",
      "nan\n",
      "nan\n",
      "nan\n",
      "nan\n",
      "nan\n",
      "nan\n",
      "nan\n",
      "nan\n",
      "nan\n",
      "nan\n",
      "nan\n",
      "nan\n",
      "nan\n",
      "nan\n",
      "nan\n",
      "nan\n",
      "nan\n",
      "nan\n",
      "nan\n",
      "nan\n",
      "nan\n",
      "nan\n",
      "nan\n",
      "nan\n",
      "nan\n",
      "nan\n",
      "125.0\n",
      "nan\n",
      "nan\n",
      "nan\n",
      "nan\n",
      "nan\n",
      "nan\n",
      "nan\n",
      "nan\n",
      "nan\n",
      "nan\n",
      "nan\n",
      "nan\n",
      "nan\n",
      "125.0\n",
      "nan\n",
      "nan\n",
      "nan\n",
      "nan\n",
      "nan\n",
      "nan\n",
      "nan\n",
      "nan\n",
      "nan\n",
      "nan\n",
      "nan\n",
      "nan\n",
      "nan\n",
      "nan\n",
      "nan\n",
      "nan\n",
      "nan\n",
      "nan\n",
      "nan\n",
      "nan\n",
      "nan\n",
      "nan\n",
      "nan\n",
      "nan\n",
      "nan\n",
      "nan\n",
      "nan\n",
      "nan\n",
      "nan\n",
      "nan\n",
      "nan\n",
      "nan\n",
      "nan\n",
      "nan\n",
      "nan\n",
      "nan\n",
      "nan\n",
      "nan\n",
      "nan\n",
      "nan\n",
      "nan\n",
      "nan\n",
      "nan\n",
      "nan\n",
      "nan\n",
      "nan\n",
      "nan\n",
      "nan\n",
      "nan\n",
      "nan\n",
      "nan\n",
      "nan\n",
      "nan\n",
      "nan\n",
      "nan\n",
      "nan\n",
      "nan\n",
      "nan\n",
      "nan\n",
      "nan\n",
      "nan\n",
      "nan\n",
      "nan\n",
      "nan\n",
      "nan\n",
      "nan\n",
      "nan\n",
      "nan\n",
      "nan\n",
      "nan\n",
      "nan\n",
      "nan\n",
      "nan\n",
      "nan\n",
      "nan\n",
      "nan\n",
      "nan\n",
      "nan\n",
      "nan\n",
      "nan\n",
      "nan\n",
      "nan\n",
      "nan\n",
      "nan\n",
      "nan\n",
      "nan\n",
      "nan\n",
      "nan\n",
      "nan\n",
      "nan\n",
      "nan\n",
      "125.0\n",
      "nan\n",
      "nan\n",
      "nan\n",
      "nan\n",
      "nan\n"
     ]
    }
   ],
   "source": [
    "for x in data['A2']:\n",
    "    if x!=np.nan:\n",
    "        print(x)"
   ]
  },
  {
   "cell_type": "code",
   "execution_count": null,
   "metadata": {},
   "outputs": [],
   "source": []
  }
 ],
 "metadata": {
  "kernelspec": {
   "display_name": "Python 3",
   "language": "python",
   "name": "python3"
  },
  "language_info": {
   "codemirror_mode": {
    "name": "ipython",
    "version": 3
   },
   "file_extension": ".py",
   "mimetype": "text/x-python",
   "name": "python",
   "nbconvert_exporter": "python",
   "pygments_lexer": "ipython3",
   "version": "3.6.7"
  }
 },
 "nbformat": 4,
 "nbformat_minor": 2
}
